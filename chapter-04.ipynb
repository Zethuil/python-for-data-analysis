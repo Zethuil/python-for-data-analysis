{
 "cells": [
  {
   "cell_type": "markdown",
   "metadata": {},
   "source": [
    "# NumPy Basics"
   ]
  },
  {
   "cell_type": "code",
   "execution_count": 2,
   "metadata": {},
   "outputs": [
    {
     "name": "stdout",
     "output_type": "stream",
     "text": [
      "Wall time: 132 ms\n",
      "Wall time: 5.94 s\n"
     ]
    }
   ],
   "source": [
    "# numpy operations perform much better than operations on 'native' types\n",
    "import numpy as np\n",
    "\n",
    "my_array = np.arange(10000000)\n",
    "my_list = list(range(10000000))\n",
    "\n",
    "%time for _ in range(10): my_array2 = my_array * 2\n",
    "%time for _ in range(10): my_list2 = [x * 2 for x in my_list]"
   ]
  },
  {
   "cell_type": "markdown",
   "metadata": {},
   "source": [
    "## 4.1 The NumPy ndarray: A Multidimensional Array Object\n",
    "\n",
    "One of the key features of NumPy is its N-dimensional array object, or ndarray,  \n",
    "which is a fast, flexible container for large datasets in Python. Arrays enable you to  \n",
    "perform mathematical operations on whole blocks of data using similar syntax to the  \n",
    "equivalent operations between scalar elements.\n",
    "\n",
    "To give you a flavor of how NumPy enables batch computations with similar syntax  \n",
    "to scalar values on built-in Python objects, I first import NumPy and generate a small  \n",
    "array of random data:"
   ]
  },
  {
   "cell_type": "code",
   "execution_count": 3,
   "metadata": {},
   "outputs": [
    {
     "data": {
      "text/plain": [
       "array([[-0.27290151, -0.99769491,  0.55357248],\n",
       "       [-0.00387967,  0.71991013,  0.06575622]])"
      ]
     },
     "execution_count": 3,
     "metadata": {},
     "output_type": "execute_result"
    }
   ],
   "source": [
    "# import numpy and create a random 2x3 array\n",
    "import numpy as np\n",
    "\n",
    "data = np.random.randn(2,3)\n",
    "data"
   ]
  },
  {
   "cell_type": "code",
   "execution_count": 4,
   "metadata": {},
   "outputs": [
    {
     "data": {
      "text/plain": [
       "array([[-2.72901512, -9.97694914,  5.53572475],\n",
       "       [-0.03879668,  7.19910127,  0.65756222]])"
      ]
     },
     "execution_count": 4,
     "metadata": {},
     "output_type": "execute_result"
    }
   ],
   "source": [
    "# multiply each vaue by 10\n",
    "data * 10"
   ]
  },
  {
   "cell_type": "code",
   "execution_count": 5,
   "metadata": {},
   "outputs": [
    {
     "data": {
      "text/plain": [
       "array([[-0.54580302, -1.99538983,  1.10714495],\n",
       "       [-0.00775934,  1.43982025,  0.13151244]])"
      ]
     },
     "execution_count": 5,
     "metadata": {},
     "output_type": "execute_result"
    }
   ],
   "source": [
    "# add each value to itself\n",
    "data + data"
   ]
  },
  {
   "cell_type": "code",
   "execution_count": 6,
   "metadata": {},
   "outputs": [
    {
     "name": "stdout",
     "output_type": "stream",
     "text": [
      "(2, 3)\n",
      "float64\n"
     ]
    }
   ],
   "source": [
    "# each multidimensional array has to main features\n",
    "# the `shape` (size of each dimension) and `dtype`, the data type for all entries\n",
    "# note that the data type applies to ALL elements in the array\n",
    "print(data.shape)\n",
    "print(data.dtype)"
   ]
  },
  {
   "cell_type": "markdown",
   "metadata": {},
   "source": [
    "## 4.2 Creating ndarrays\n",
    "\n",
    "The easiest way to create an array is to use the array function. This accepts any  \n",
    "sequence-like object (including other arrays) and produces a new NumPy array containing  \n",
    "the passed data. For example, a list is a good candidate for conversion:"
   ]
  },
  {
   "cell_type": "code",
   "execution_count": 4,
   "metadata": {},
   "outputs": [
    {
     "data": {
      "text/plain": [
       "array([6. , 7.5, 8. , 0. , 1. ])"
      ]
     },
     "execution_count": 4,
     "metadata": {},
     "output_type": "execute_result"
    }
   ],
   "source": [
    "import numpy as np\n",
    "\n",
    "data1 = [6, 7.5, 8, 0, 1]\n",
    "arr1 = np.array(data1)\n",
    "arr1"
   ]
  },
  {
   "cell_type": "code",
   "execution_count": 5,
   "metadata": {},
   "outputs": [
    {
     "data": {
      "text/plain": [
       "array([[1, 2, 3, 4],\n",
       "       [5, 6, 7, 8]])"
      ]
     },
     "execution_count": 5,
     "metadata": {},
     "output_type": "execute_result"
    }
   ],
   "source": [
    "# nested sequequences will be converted into a multidimensional array\n",
    "data2 = [[1, 2, 3, 4], [5, 6, 7, 8]]\n",
    "arr2 = np.array(data2)\n",
    "arr2"
   ]
  },
  {
   "cell_type": "code",
   "execution_count": 6,
   "metadata": {},
   "outputs": [
    {
     "name": "stdout",
     "output_type": "stream",
     "text": [
      "ndim: 2\n",
      "shape: (2, 4)\n"
     ]
    }
   ],
   "source": [
    "# we can use `ndim` and `shape` to verify that the inferred dimension is 2\n",
    "print(f\"ndim: {arr2.ndim}\")\n",
    "print(f\"shape: {arr2.shape}\")"
   ]
  },
  {
   "cell_type": "code",
   "execution_count": 7,
   "metadata": {},
   "outputs": [
    {
     "name": "stdout",
     "output_type": "stream",
     "text": [
      "arr1.dtype: float64\n",
      "arr2.dtype: int32\n"
     ]
    }
   ],
   "source": [
    "# by default, np.array() tries to infer a good data type for the array\n",
    "# the data type can be accessed from the `dtype`property\n",
    "print(f\"arr1.dtype: {arr1.dtype}\")\n",
    "print(f\"arr2.dtype: {arr2.dtype}\")"
   ]
  },
  {
   "cell_type": "code",
   "execution_count": 10,
   "metadata": {},
   "outputs": [
    {
     "name": "stdout",
     "output_type": "stream",
     "text": [
      "[0. 0. 0. 0. 0. 0. 0. 0. 0. 0.]\n",
      "[[1. 1. 1.]\n",
      " [1. 1. 1.]]\n",
      "[[[6.23042070e-307 1.42417221e-306]\n",
      "  [1.60219306e-306 9.79054228e-307]\n",
      "  [1.69119330e-306 1.78022342e-306]]\n",
      "\n",
      " [[1.05700345e-307 1.11261027e-306]\n",
      "  [9.34609111e-307 1.78019625e-306]\n",
      "  [2.22522596e-306 0.00000000e+000]]]\n"
     ]
    }
   ],
   "source": [
    "# there are other built-in functions to create arrays\n",
    "# np.ones(), np.zeros() and np.empty()\n",
    "print(np.zeros(10))\n",
    "print(np.ones((2, 3)))\n",
    "print(np.empty((2, 3, 2)))"
   ]
  },
  {
   "cell_type": "code",
   "execution_count": 11,
   "metadata": {},
   "outputs": [
    {
     "data": {
      "text/plain": [
       "array([ 0,  1,  2,  3,  4,  5,  6,  7,  8,  9, 10, 11, 12, 13, 14])"
      ]
     },
     "execution_count": 11,
     "metadata": {},
     "output_type": "execute_result"
    }
   ],
   "source": [
    "# np.arange is the array-valued version of python's range() function\n",
    "np.arange(15)"
   ]
  },
  {
   "cell_type": "markdown",
   "metadata": {},
   "source": [
    "Array creation functions\n",
    "\n",
    "- `array()`: Convert input data (list, tuple, array, or other sequence type) to an ndarray either by inferring a dtype\n",
    "or explicitly specifying a dtype; copies the input data by default\n",
    "- `asarray()`: Convert input to ndarray, but do not copy if the input is already an ndarray\n",
    "- `arange()`:  Like the built-in range but returns an ndarray instead of a list\n",
    "- `ones()`, `ones_like()`: Produce an array of all 1s with the given shape and dtype; ones_like takes another array and\n",
    "produces a ones array of the same shape and dtype\n",
    "- `zeros()`, `zeros_like()`: Like ones and ones_like but producing arrays of 0s instead\n",
    "- `empty()`, `empty_like()`: Create new arrays by allocating new memory, but do not populate with any values like ones and\n",
    "zeros\n",
    "- `full()`, `full_like()`: Produce an array of the given shape and dtype with all values set to the indicated “fill value”\n",
    "full_like takes another array and produces a filled array of the same shape and dtype\n",
    "- `eye()`, `identity()`:  Create a square N × N identity matrix (1s on the diagonal and 0s elsewhere)"
   ]
  },
  {
   "cell_type": "code",
   "execution_count": 14,
   "metadata": {},
   "outputs": [
    {
     "name": "stdout",
     "output_type": "stream",
     "text": [
      "arr1.dtype: float64\n",
      "arr2.dtype: int32\n"
     ]
    }
   ],
   "source": [
    "# the data type can be specified for the np.array() function via parameter\n",
    "arr1 = np.array([1, 2, 3], dtype=np.float64)\n",
    "arr2 = np.array([1, 2, 3], dtype=np.int32)\n",
    "\n",
    "print(f\"arr1.dtype: {arr1.dtype}\")\n",
    "print(f\"arr2.dtype: {arr2.dtype}\")"
   ]
  },
  {
   "cell_type": "code",
   "execution_count": 17,
   "metadata": {},
   "outputs": [
    {
     "name": "stdout",
     "output_type": "stream",
     "text": [
      "arr1.dtype: int32\n",
      "arr2.dtype: float64\n"
     ]
    }
   ],
   "source": [
    "# explicit type casting for an array can be done with the astype() function\n",
    "# Calling astype always creates a new array (a copy of the data), even if the new dtype is the same as the old dtype.\n",
    "arr1 = np.arange(4)\n",
    "print(f\"arr1.dtype: {arr1.dtype}\")\n",
    "\n",
    "arr2 = arr1.astype(np.float64)\n",
    "print(f\"arr2.dtype: {arr2.dtype}\")\n"
   ]
  },
  {
   "cell_type": "markdown",
   "metadata": {},
   "source": [
    "### Arithmetic with NumPy Arrays\n",
    "\n",
    "Arrays are important because they enable you to express batch operations on data  \n",
    "without writing any for loops. NumPy users call this vectorization. Any arithmetic  \n",
    "operations between equal-size arrays applies the operation element-wise:"
   ]
  },
  {
   "cell_type": "code",
   "execution_count": 19,
   "metadata": {},
   "outputs": [
    {
     "data": {
      "text/plain": [
       "array([[1, 2, 3],\n",
       "       [4, 5, 6]])"
      ]
     },
     "execution_count": 19,
     "metadata": {},
     "output_type": "execute_result"
    }
   ],
   "source": [
    "arr = np.array([[1, 2, 3], [4, 5, 6]])\n",
    "arr"
   ]
  },
  {
   "cell_type": "code",
   "execution_count": 20,
   "metadata": {},
   "outputs": [
    {
     "data": {
      "text/plain": [
       "array([[ 1,  4,  9],\n",
       "       [16, 25, 36]])"
      ]
     },
     "execution_count": 20,
     "metadata": {},
     "output_type": "execute_result"
    }
   ],
   "source": [
    "arr * arr"
   ]
  },
  {
   "cell_type": "code",
   "execution_count": 21,
   "metadata": {},
   "outputs": [
    {
     "data": {
      "text/plain": [
       "array([[0, 0, 0],\n",
       "       [0, 0, 0]])"
      ]
     },
     "execution_count": 21,
     "metadata": {},
     "output_type": "execute_result"
    }
   ],
   "source": [
    "arr - arr"
   ]
  },
  {
   "cell_type": "markdown",
   "metadata": {},
   "source": [
    "Arithmetic operations with scalars propagate the scalar argument to each element in the array:"
   ]
  },
  {
   "cell_type": "code",
   "execution_count": 22,
   "metadata": {},
   "outputs": [
    {
     "data": {
      "text/plain": [
       "array([[1.        , 0.5       , 0.33333333],\n",
       "       [0.25      , 0.2       , 0.16666667]])"
      ]
     },
     "execution_count": 22,
     "metadata": {},
     "output_type": "execute_result"
    }
   ],
   "source": [
    "1 / arr"
   ]
  },
  {
   "cell_type": "code",
   "execution_count": 23,
   "metadata": {},
   "outputs": [
    {
     "data": {
      "text/plain": [
       "array([[1.        , 1.41421356, 1.73205081],\n",
       "       [2.        , 2.23606798, 2.44948974]])"
      ]
     },
     "execution_count": 23,
     "metadata": {},
     "output_type": "execute_result"
    }
   ],
   "source": [
    "arr ** 0.5"
   ]
  },
  {
   "cell_type": "markdown",
   "metadata": {},
   "source": [
    "Comparisons between arrays of the same size yield boolean arrays:"
   ]
  },
  {
   "cell_type": "code",
   "execution_count": 26,
   "metadata": {},
   "outputs": [
    {
     "data": {
      "text/plain": [
       "array([[ 0,  4,  1],\n",
       "       [ 7,  2, 12]])"
      ]
     },
     "execution_count": 26,
     "metadata": {},
     "output_type": "execute_result"
    }
   ],
   "source": [
    "arr2 = np.array([[0, 4, 1], [7, 2, 12]])\n",
    "arr2"
   ]
  },
  {
   "cell_type": "code",
   "execution_count": 27,
   "metadata": {},
   "outputs": [
    {
     "data": {
      "text/plain": [
       "array([[False,  True, False],\n",
       "       [ True, False,  True]])"
      ]
     },
     "execution_count": 27,
     "metadata": {},
     "output_type": "execute_result"
    }
   ],
   "source": [
    "arr2 > arr"
   ]
  }
 ],
 "metadata": {
  "interpreter": {
   "hash": "1baa965d5efe3ac65b79dfc60c0d706280b1da80fedb7760faf2759126c4f253"
  },
  "kernelspec": {
   "display_name": "Python 3.8.9 64-bit",
   "language": "python",
   "name": "python3"
  },
  "language_info": {
   "codemirror_mode": {
    "name": "ipython",
    "version": 3
   },
   "file_extension": ".py",
   "mimetype": "text/x-python",
   "name": "python",
   "nbconvert_exporter": "python",
   "pygments_lexer": "ipython3",
   "version": "3.8.9"
  },
  "orig_nbformat": 4
 },
 "nbformat": 4,
 "nbformat_minor": 2
}
